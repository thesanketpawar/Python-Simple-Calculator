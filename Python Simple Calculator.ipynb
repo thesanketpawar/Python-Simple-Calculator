{
 "cells": [
  {
   "cell_type": "code",
   "execution_count": 1,
   "id": "01741a47-3351-4300-9f45-3bf65bddd528",
   "metadata": {},
   "outputs": [],
   "source": [
    "#Python Simple Calculator\n",
    "#We create functions to add two numbers\n",
    "def add(num1,num2):\n",
    "    return num1 + num2"
   ]
  },
  {
   "cell_type": "code",
   "execution_count": 2,
   "id": "35fb77bd-6a84-4134-aedc-7e3df8a8e294",
   "metadata": {},
   "outputs": [],
   "source": [
    "# Create Functions to subtract two numbers\n",
    "def sub(num1,num2):\n",
    "    return num1 - num2"
   ]
  },
  {
   "cell_type": "code",
   "execution_count": 3,
   "id": "252ef85b-c153-4d34-ae05-5a5e8fbb5bbc",
   "metadata": {},
   "outputs": [],
   "source": [
    "# Create Functions to Multiply two numbers\n",
    "def mul(num1,num2):\n",
    "    return num1 * num2"
   ]
  },
  {
   "cell_type": "code",
   "execution_count": 4,
   "id": "080a6da1-5bc2-40da-b787-d8cdb4ec764a",
   "metadata": {},
   "outputs": [],
   "source": [
    "# Create Functions to Divide two numbers\n",
    "def div(num1,num2):\n",
    "    return num1 / num2"
   ]
  },
  {
   "cell_type": "code",
   "execution_count": 13,
   "id": "ce77f81a-1bc8-454e-9ef7-b84f76c820a4",
   "metadata": {},
   "outputs": [
    {
     "name": "stdout",
     "output_type": "stream",
     "text": [
      "PLease Select Option \n",
      "1. Add\n",
      "2. Subtract\n",
      "3. Multiply\n",
      "4. Divide\n",
      "\n"
     ]
    }
   ],
   "source": [
    "print(\"PLease Select Option \\n\" \\\n",
    "     \"1. Add\\n\" \\\n",
    "     \"2. Subtract\\n\" \\\n",
    "      \"3. Multiply\\n\" \\\n",
    "      \"4. Divide\\n\")"
   ]
  },
  {
   "cell_type": "code",
   "execution_count": 16,
   "id": "194d9e30-51a4-4ac4-9936-8f89f5a132c6",
   "metadata": {},
   "outputs": [
    {
     "name": "stdin",
     "output_type": "stream",
     "text": [
      "Select Option from 1, 2, 3, 4 4\n",
      "Enter First Number 5\n",
      "Enter Second Number 9\n"
     ]
    },
    {
     "name": "stdout",
     "output_type": "stream",
     "text": [
      "5 / 9 = -4\n"
     ]
    }
   ],
   "source": [
    "#Now we take in1pot from the user \n",
    "select = int(input(\"Select Option from 1, 2, 3, 4\"))\n",
    "\n",
    "number1 = int(input(\"Enter First Number\")) \n",
    "number2 = int(input(\"Enter Second Number\"))\n",
    "\n",
    "if select == 1:\n",
    "    print(number1, \"+\" ,number2 ,\"=\", add(number1,number2))\n",
    "elif select == 2:\n",
    "    print(number1, \"-,\", number2, \"=\", sub(number1,number2))\n",
    "elif select == 3:\n",
    "    print(number1, \"*,\", number2, \"=\", mul(number1,number2))\n",
    "elif select == 4:\n",
    "    print(number1, \"/\", number2, \"=\", sub(number1,number2))\n",
    "else:\n",
    "    print(\"Invalid Input\")"
   ]
  },
  {
   "cell_type": "code",
   "execution_count": null,
   "id": "75534758-06ce-457c-b788-211425030561",
   "metadata": {},
   "outputs": [],
   "source": []
  },
  {
   "cell_type": "code",
   "execution_count": null,
   "id": "eb9651bd-82f7-4569-8641-9980fe4b813b",
   "metadata": {},
   "outputs": [],
   "source": []
  },
  {
   "cell_type": "code",
   "execution_count": null,
   "id": "baa0b4e0-0482-4704-a711-a852349b0d77",
   "metadata": {},
   "outputs": [],
   "source": []
  },
  {
   "cell_type": "code",
   "execution_count": null,
   "id": "4e1552d9-e481-45eb-85d7-73a990ab544a",
   "metadata": {},
   "outputs": [],
   "source": []
  },
  {
   "cell_type": "code",
   "execution_count": null,
   "id": "b42d075d-1238-4a13-9e07-6bd5c4d43abb",
   "metadata": {},
   "outputs": [],
   "source": []
  },
  {
   "cell_type": "code",
   "execution_count": null,
   "id": "cddf3209-fd5d-4ec9-805a-d3ce7c942a59",
   "metadata": {},
   "outputs": [],
   "source": []
  },
  {
   "cell_type": "code",
   "execution_count": null,
   "id": "7fb9816c-7615-43af-8ed3-9b50c76d01a2",
   "metadata": {},
   "outputs": [],
   "source": []
  }
 ],
 "metadata": {
  "kernelspec": {
   "display_name": "Python 3 (ipykernel)",
   "language": "python",
   "name": "python3"
  },
  "language_info": {
   "codemirror_mode": {
    "name": "ipython",
    "version": 3
   },
   "file_extension": ".py",
   "mimetype": "text/x-python",
   "name": "python",
   "nbconvert_exporter": "python",
   "pygments_lexer": "ipython3",
   "version": "3.11.5"
  }
 },
 "nbformat": 4,
 "nbformat_minor": 5
}
